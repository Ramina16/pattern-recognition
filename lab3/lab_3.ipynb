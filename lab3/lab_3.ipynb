{
 "cells": [
  {
   "cell_type": "code",
   "execution_count": 1,
   "metadata": {},
   "outputs": [],
   "source": [
    "import numpy as np\n",
    "import matplotlib.pyplot as plt\n",
    "import pickle\n",
    "from sklearn.utils import shuffle\n",
    "from sklearn import metrics"
   ]
  },
  {
   "cell_type": "code",
   "execution_count": 2,
   "metadata": {},
   "outputs": [],
   "source": [
    "import zipfile\n",
    "z = zipfile.ZipFile('mnist.pkl.zip', 'r')\n",
    "k = z.extract('mnist.pkl') # Извлечь файл из архива\n",
    "with open(k, 'rb') as f:\n",
    "    train_set, _, test_set = pickle.load(f, encoding=\"bytes\")"
   ]
  },
  {
   "cell_type": "code",
   "execution_count": 3,
   "metadata": {},
   "outputs": [
    {
     "data": {
      "text/plain": [
       "(array([[0., 0., 0., ..., 0., 0., 0.],\n",
       "        [0., 0., 0., ..., 0., 0., 0.],\n",
       "        [0., 0., 0., ..., 0., 0., 0.],\n",
       "        ...,\n",
       "        [0., 0., 0., ..., 0., 0., 0.],\n",
       "        [0., 0., 0., ..., 0., 0., 0.],\n",
       "        [0., 0., 0., ..., 0., 0., 0.]], dtype=float32),\n",
       " array([5, 0, 4, ..., 8, 4, 8], dtype=int64))"
      ]
     },
     "execution_count": 3,
     "metadata": {},
     "output_type": "execute_result"
    }
   ],
   "source": [
    "train_set"
   ]
  },
  {
   "cell_type": "code",
   "execution_count": 4,
   "metadata": {},
   "outputs": [],
   "source": [
    "def get_data(numbers):\n",
    "    numbers = numbers\n",
    "    n_classes = len(numbers)\n",
    "    with open('mnist.pkl', 'rb') as f:\n",
    "        train_set, _, test_set = pickle.load(f, encoding=\"bytes\")\n",
    "    x_train = train_set[0]\n",
    "    x_test = test_set[0]\n",
    "    x_train[x_train>=0.5] = 1\n",
    "    x_train[x_train<0.5] = 0\n",
    "    x_test[x_test>=0.5] = 1\n",
    "    x_test[x_test<0.5] = 0\n",
    "    y_train = train_set[1]\n",
    "    y_test = test_set[1]\n",
    "    idx_train = [[np.where(y_train==i)] for i in numbers]\n",
    "    idx_test = [[np.where(y_test==i)] for i in numbers]\n",
    "    idx_x_train = [x_train[idx_train[i][0]] for i in range(len(idx_train))]\n",
    "    idx_x_test = [x_test[idx_test[i][0]] for i in range(len(idx_test))]\n",
    "    idx_y_test = [y_test[idx_test[i][0]] for i in range(len(idx_test))]\n",
    "    x_train_new = shuffle(np.concatenate(idx_x_train), random_state=42)\n",
    "    x_test_new = shuffle(np.concatenate(idx_x_test), random_state=42)\n",
    "    y_test_new = shuffle(np.concatenate(idx_y_test), random_state=42)\n",
    "    return x_train_new, x_test_new, y_test_new, numbers, n_classes\n",
    "x_train, x_test, y_test, numbers, n_classes = get_data([3, 7])"
   ]
  },
  {
   "cell_type": "code",
   "execution_count": 5,
   "metadata": {},
   "outputs": [],
   "source": [
    "def plot_image(data, n_classes):\n",
    "    for i in range(n_classes):\n",
    "        img = np.array(data)[i]\n",
    "        img_reshape = img.reshape((28,28))\n",
    "        plt.imshow(img_reshape, cmap='gray')\n",
    "        plt.show()"
   ]
  },
  {
   "cell_type": "code",
   "execution_count": 6,
   "metadata": {},
   "outputs": [],
   "source": [
    "def init_parameters(data, n_classes):\n",
    "    N = data.shape[0]\n",
    "    K = n_classes\n",
    "    D = data.shape[1]\n",
    "    \n",
    "    init_p_k_x = np.zeros((K, ))\n",
    "    \n",
    "    matrix = np.random.rand(N, K)\n",
    "    matrix /= matrix.sum(axis=1)[:, None]\n",
    "    for i in range(K):\n",
    "        init_p_k_x[i] = sum(matrix[:, i])/matrix.shape[0]\n",
    "    p_k_x_res = np.repeat(init_p_k_x, 28*28).reshape(K, D)\n",
    "    \n",
    "    init_p_k = np.random.uniform(0, 1, K)\n",
    "    init_p_k /= np.sum(init_p_k)\n",
    "#     print('init', init_p_k)\n",
    "#     print(init_p_k.sum(axis=0))\n",
    "    return p_k_x_res, init_p_k"
   ]
  },
  {
   "cell_type": "code",
   "execution_count": 7,
   "metadata": {},
   "outputs": [],
   "source": [
    "def bernoulliMStep(data, p_k_x):\n",
    "    '''Re-estimate the parameters using the current p_k_x\n",
    "    data = N X D matrix\n",
    "    p_k_x = N X K matrix\n",
    "    return revised p_k (K vector) and p_i_j (K X D matrix)\n",
    "    '''\n",
    "    N = data.shape[0]\n",
    "    D = data.shape[1]\n",
    "    K = p_k_x.shape[1]\n",
    "    #print('p_k_x', p_k_x)\n",
    "    Nk = np.sum(p_k_x, axis=0)\n",
    "    #print('nk',Nk)\n",
    "    p_i_j_new = np.empty((K,D))\n",
    "    \n",
    "    for k in range(K):\n",
    "            p_i_j_new[k] = np.sum(p_k_x[:,k][:, None]*data, axis=0)/Nk[k] #sum is over N data points            \n",
    "#     print('nk/n', Nk/N)\n",
    "#     print((Nk/N).sum())\n",
    "    return Nk/N, p_i_j_new # Nk/N = new p_k"
   ]
  },
  {
   "cell_type": "code",
   "execution_count": 8,
   "metadata": {},
   "outputs": [],
   "source": [
    "def BernoulliEStep(data, p_k, p_i_j):\n",
    "    '''To compute expectation of the loglikelihood of Mixture of Beroullie distributions\n",
    "    Since computing E(LL) requires computing responsibilities, this function does a double-duty\n",
    "    to return responsibilities too\n",
    "    '''\n",
    "    N = data.shape[0]\n",
    "    K = p_i_j.shape[0]\n",
    "    \n",
    "    #resp = respBernoulli(data, p_k, p_i_j) \n",
    "    p_k_x = np.empty((N, K))\n",
    "    for i in range(N):\n",
    "        for k in range(K):\n",
    "            p_k_x[i,k] = np.prod((p_i_j[k]**data[i])*((1-p_i_j[k])**(1-data[i])))\n",
    "    p_k_x *= p_k\n",
    "    #print(p_k_x)\n",
    "    #print(p_k_x.sum(axis=1))\n",
    "    p_k_x /= p_k_x.sum(axis=1)[:, None]\n",
    "    \n",
    "    \n",
    "    return p_k_x"
   ]
  },
  {
   "cell_type": "code",
   "execution_count": 9,
   "metadata": {},
   "outputs": [],
   "source": [
    "def mixOfBernoulliEM(data, n_classes, maxiters=100):\n",
    "    '''EM algo fo Mixture of Bernoulli Distributions'''\n",
    "    N = data.shape[0]\n",
    "    D = data.shape[1]\n",
    "    K = n_classes\n",
    "    \n",
    "    #initalize\n",
    "    init_p_k_x, init_p_k = init_parameters(data, K)\n",
    "#     p_k = init_p_k[:]\n",
    "#     p_i_j = init_p_i_j[:]\n",
    "    p_k_x = BernoulliEStep(data, init_p_k, init_p_k_x)\n",
    "    \n",
    "    for i in range(maxiters):      \n",
    "        #E Step: calculate resps\n",
    "        #Skip, rolled into log likelihood calc\n",
    "        #For 0th step, done as part of initialization\n",
    "            \n",
    "        #M Step\n",
    "        p_k, p_i_j = bernoulliMStep(data, p_k_x)\n",
    "\n",
    "        p_k_x = BernoulliEStep(data, p_k, p_i_j)\n",
    "#     print(p_k)\n",
    "#     print(p_i_j.shape)\n",
    "#     print(p_i_j)\n",
    "    return p_k, p_i_j"
   ]
  },
  {
   "cell_type": "code",
   "execution_count": 10,
   "metadata": {},
   "outputs": [],
   "source": [
    "# def experiments(x, K, iters=10):\n",
    "#     '''\n",
    "#     Picks N random points of the selected 'digits' from MNIST data set and\n",
    "#     fits a model using Mixture of Bernoulli distributions.\n",
    "#     And returns the weights and means.\n",
    "#     '''\n",
    "#     D = x.shape[1]\n",
    "\n",
    "#     init_p_k = np.random.uniform(0, 1, K)\n",
    "#     init_p_k /= np.sum(init_p_k)\n",
    "\n",
    "#     init_p_k_x = p_k_x_0(x, K)\n",
    "#     #initMeans = np.full((K, D), 1.0/K)\n",
    "    \n",
    "#     return mixOfBernoulliEM(x, init_p_k, init_p_k_x, maxiters=iters)"
   ]
  },
  {
   "cell_type": "code",
   "execution_count": 11,
   "metadata": {},
   "outputs": [],
   "source": [
    "# init_p_k_x, init_p_k = init_parameters(x_train, n_classes)"
   ]
  },
  {
   "cell_type": "code",
   "execution_count": 12,
   "metadata": {},
   "outputs": [],
   "source": [
    "res_p_k, res_p_i_j = mixOfBernoulliEM(x_train, n_classes, maxiters=10)"
   ]
  },
  {
   "cell_type": "code",
   "execution_count": 13,
   "metadata": {},
   "outputs": [],
   "source": [
    "#res_p_k, res_p_i_j = experiments(x_train, n_classes)"
   ]
  },
  {
   "cell_type": "code",
   "execution_count": 14,
   "metadata": {},
   "outputs": [
    {
     "data": {
      "image/png": "[encoded data removed]",
      "text/plain": [
       "<Figure size 432x288 with 1 Axes>"
      ]
     },
     "metadata": {
      "needs_background": "light"
     },
     "output_type": "display_data"
    },
    {
     "data": {
      "image/png": "[encoded data removed]",
      "text/plain": [
       "<Figure size 432x288 with 1 Axes>"
      ]
     },
     "metadata": {
      "needs_background": "light"
     },
     "output_type": "display_data"
    }
   ],
   "source": [
    "plot_image(res_p_i_j, n_classes)"
   ]
  },
  {
   "cell_type": "code",
   "execution_count": 15,
   "metadata": {},
   "outputs": [],
   "source": [
    "def predict(data, labels, p_k, p_i_j, numbers):\n",
    "    pred = BernoulliEStep(data, p_k, p_i_j).argmax(axis=1)\n",
    "#     p_k_x = BernoulliEStep(data, p_k, p_i_j)\n",
    "#     p_k, p_i_j_new = bernoulliMStep(data, p_k_x)\n",
    "    print(pred[:20])\n",
    "    for j in range(len(numbers)):\n",
    "        print(j)\n",
    "        print(numbers[j])\n",
    "        for i in range(len(pred)):\n",
    "            if pred[i] == j:\n",
    "                #print(pred[i], i)\n",
    "                pred[i] = numbers[j]\n",
    "    print('metrics:', metrics.classification_report(labels, pred))\n",
    "    return pred"
   ]
  },
  {
   "cell_type": "code",
   "execution_count": 16,
   "metadata": {},
   "outputs": [
    {
     "name": "stdout",
     "output_type": "stream",
     "text": [
      "[0 0 0 0 1 1 1 1 0 0 0 0 1 1 1 0 0 1 0 1]\n",
      "0\n",
      "3\n",
      "1\n",
      "7\n",
      "metrics:               precision    recall  f1-score   support\n",
      "\n",
      "           3       0.03      0.04      0.04      1010\n",
      "           7       0.03      0.03      0.03      1028\n",
      "\n",
      "    accuracy                           0.03      2038\n",
      "   macro avg       0.03      0.03      0.03      2038\n",
      "weighted avg       0.03      0.03      0.03      2038\n",
      "\n"
     ]
    }
   ],
   "source": [
    "with np.errstate(invalid='ignore'):\n",
    "    predictions = predict(x_test, y_test, res_p_k, res_p_i_j, numbers)"
   ]
  },
  {
   "cell_type": "code",
   "execution_count": 17,
   "metadata": {},
   "outputs": [],
   "source": [
    "from sklearn import metrics"
   ]
  },
  {
   "cell_type": "code",
   "execution_count": 18,
   "metadata": {},
   "outputs": [
    {
     "data": {
      "text/plain": [
       "array([7, 7, 7, 7, 3, 3, 3, 3, 7, 7, 3, 7, 3, 3, 3, 7, 7, 3, 7, 3, 3, 3,\n",
       "       3, 7, 7, 7, 3, 7, 3, 7, 7, 7, 3, 3, 7, 3, 3, 3, 3, 3, 7, 7, 3, 3,\n",
       "       3, 3, 3, 3, 7, 3], dtype=int64)"
      ]
     },
     "execution_count": 18,
     "metadata": {},
     "output_type": "execute_result"
    }
   ],
   "source": [
    "y_test[:50]"
   ]
  },
  {
   "cell_type": "code",
   "execution_count": 19,
   "metadata": {},
   "outputs": [
    {
     "data": {
      "text/plain": [
       "array([3, 3, 3, 3, 7, 7, 7, 7, 3, 3, 3, 3, 7, 7, 7, 3, 3, 7, 3, 7, 7, 7,\n",
       "       7, 3, 3, 3, 7, 3, 7, 3, 3, 3, 7, 7, 3, 7, 7, 7, 7, 7, 3, 3, 7, 7,\n",
       "       7, 7, 7, 7, 3, 7], dtype=int64)"
      ]
     },
     "execution_count": 19,
     "metadata": {},
     "output_type": "execute_result"
    }
   ],
   "source": [
    "predictions[:50]"
   ]
  },
  {
   "cell_type": "code",
   "execution_count": 20,
   "metadata": {},
   "outputs": [
    {
     "name": "stdout",
     "output_type": "stream",
     "text": [
      "              precision    recall  f1-score   support\n",
      "\n",
      "           3       0.03      0.04      0.04      1010\n",
      "           7       0.03      0.03      0.03      1028\n",
      "\n",
      "    accuracy                           0.03      2038\n",
      "   macro avg       0.03      0.03      0.03      2038\n",
      "weighted avg       0.03      0.03      0.03      2038\n",
      "\n"
     ]
    }
   ],
   "source": [
    "print(metrics.classification_report(y_test, predictions))"
   ]
  },
  {
   "cell_type": "code",
   "execution_count": 21,
   "metadata": {},
   "outputs": [
    {
     "data": {
      "text/plain": [
       "array([0.00000000e+000, 0.00000000e+000, 0.00000000e+000, 0.00000000e+000,\n",
       "       0.00000000e+000, 0.00000000e+000, 0.00000000e+000, 0.00000000e+000,\n",
       "       0.00000000e+000, 0.00000000e+000, 0.00000000e+000, 0.00000000e+000,\n",
       "       0.00000000e+000, 0.00000000e+000, 0.00000000e+000, 0.00000000e+000,\n",
       "       0.00000000e+000, 0.00000000e+000, 0.00000000e+000, 0.00000000e+000,\n",
       "       0.00000000e+000, 0.00000000e+000, 0.00000000e+000, 0.00000000e+000,\n",
       "       0.00000000e+000, 0.00000000e+000, 0.00000000e+000, 0.00000000e+000,\n",
       "       0.00000000e+000, 0.00000000e+000, 0.00000000e+000, 0.00000000e+000,\n",
       "       0.00000000e+000, 0.00000000e+000, 0.00000000e+000, 0.00000000e+000,\n",
       "       0.00000000e+000, 0.00000000e+000, 0.00000000e+000, 0.00000000e+000,\n",
       "       0.00000000e+000, 0.00000000e+000, 0.00000000e+000, 0.00000000e+000,\n",
       "       0.00000000e+000, 0.00000000e+000, 0.00000000e+000, 0.00000000e+000,\n",
       "       0.00000000e+000, 0.00000000e+000, 0.00000000e+000, 0.00000000e+000,\n",
       "       0.00000000e+000, 0.00000000e+000, 0.00000000e+000, 0.00000000e+000,\n",
       "       0.00000000e+000, 0.00000000e+000, 0.00000000e+000, 0.00000000e+000,\n",
       "       0.00000000e+000, 0.00000000e+000, 0.00000000e+000, 0.00000000e+000,\n",
       "       0.00000000e+000, 0.00000000e+000, 0.00000000e+000, 0.00000000e+000,\n",
       "       0.00000000e+000, 0.00000000e+000, 0.00000000e+000, 0.00000000e+000,\n",
       "       0.00000000e+000, 0.00000000e+000, 0.00000000e+000, 0.00000000e+000,\n",
       "       0.00000000e+000, 0.00000000e+000, 0.00000000e+000, 0.00000000e+000,\n",
       "       0.00000000e+000, 0.00000000e+000, 0.00000000e+000, 0.00000000e+000,\n",
       "       0.00000000e+000, 0.00000000e+000, 0.00000000e+000, 0.00000000e+000,\n",
       "       0.00000000e+000, 0.00000000e+000, 0.00000000e+000, 0.00000000e+000,\n",
       "       1.90112781e-004, 0.00000000e+000, 0.00000000e+000, 0.00000000e+000,\n",
       "       3.26808257e-214, 1.44936161e-139, 9.86773107e-058, 8.60370032e-156,\n",
       "       1.50246602e-182, 0.00000000e+000, 0.00000000e+000, 0.00000000e+000,\n",
       "       0.00000000e+000, 0.00000000e+000, 0.00000000e+000, 0.00000000e+000,\n",
       "       0.00000000e+000, 0.00000000e+000, 0.00000000e+000, 0.00000000e+000,\n",
       "       0.00000000e+000, 0.00000000e+000, 0.00000000e+000, 0.00000000e+000,\n",
       "       0.00000000e+000, 0.00000000e+000, 0.00000000e+000, 1.90112781e-004,\n",
       "       1.89056201e-197, 1.34355729e-224, 1.27983398e-100, 4.99149771e-086,\n",
       "       8.37503915e-084, 3.24314151e-010, 1.90081086e-004, 1.90080764e-004,\n",
       "       1.90080699e-004, 5.69517503e-099, 6.45350746e-066, 0.00000000e+000,\n",
       "       0.00000000e+000, 1.90112781e-004, 9.21412424e-123, 0.00000000e+000,\n",
       "       0.00000000e+000, 0.00000000e+000, 0.00000000e+000, 0.00000000e+000,\n",
       "       0.00000000e+000, 0.00000000e+000, 0.00000000e+000, 0.00000000e+000,\n",
       "       1.90112781e-004, 5.70338345e-004, 1.14067671e-003, 2.28818218e-003,\n",
       "       3.94520845e-003, 4.31246488e-003, 4.45815637e-003, 5.78552532e-003,\n",
       "       5.15815280e-003, 4.08337127e-003, 3.57189833e-003, 3.85885143e-003,\n",
       "       3.48800859e-003, 2.74681999e-003, 2.09606616e-003, 7.60363070e-004,\n",
       "       7.60451219e-004, 7.60451219e-004, 5.70337814e-004, 1.90112781e-004,\n",
       "       0.00000000e+000, 0.00000000e+000, 0.00000000e+000, 0.00000000e+000,\n",
       "       0.00000000e+000, 0.00000000e+000, 5.70338344e-004, 7.60451126e-004,\n",
       "       4.37259377e-003, 9.90784166e-003, 2.27454958e-002, 3.43757467e-002,\n",
       "       5.19021910e-002, 6.71095608e-002, 8.66677565e-002, 1.02043354e-001,\n",
       "       1.07778829e-001, 1.10550548e-001, 1.12718489e-001, 1.12194529e-001,\n",
       "       1.06583675e-001, 9.94805527e-002, 7.95482053e-002, 5.96574518e-002,\n",
       "       3.42249534e-002, 2.22586473e-002, 1.05127942e-002, 3.03723021e-003,\n",
       "       1.90112781e-004, 0.00000000e+000, 0.00000000e+000, 0.00000000e+000,\n",
       "       0.00000000e+000, 1.90112781e-004, 2.09124060e-003, 7.99583894e-003,\n",
       "       2.30906750e-002, 5.27483878e-002, 9.87136344e-002, 1.58299298e-001,\n",
       "       2.19721274e-001, 2.81835239e-001, 3.30135124e-001, 3.76024585e-001,\n",
       "       4.10506578e-001, 4.36704635e-001, 4.45889648e-001, 4.57415679e-001,\n",
       "       4.55468600e-001, 4.39841720e-001, 3.84548592e-001, 3.05176190e-001,\n",
       "       2.09206976e-001, 1.18853264e-001, 5.57680809e-002, 2.28702792e-002,\n",
       "       4.75281953e-003, 5.70338344e-004, 0.00000000e+000, 0.00000000e+000,\n",
       "       1.90112781e-004, 1.90112781e-003, 1.00706514e-002, 3.01248635e-002,\n",
       "       6.66483972e-002, 1.30403863e-001, 2.08576576e-001, 3.18501236e-001,\n",
       "       4.27572880e-001, 5.28615474e-001, 6.18357475e-001, 6.78433992e-001,\n",
       "       7.19818516e-001, 7.41108260e-001, 7.44248969e-001, 7.55405010e-001,\n",
       "       7.59479104e-001, 7.39952029e-001, 6.61614983e-001, 5.33117248e-001,\n",
       "       3.70738180e-001, 2.20229193e-001, 1.03115301e-001, 3.99237049e-002,\n",
       "       8.17484960e-003, 1.33078947e-003, 0.00000000e+000, 0.00000000e+000,\n",
       "       0.00000000e+000, 2.85169172e-003, 1.80607114e-002, 4.93436809e-002,\n",
       "       9.84255637e-002, 1.76112922e-001, 2.79529606e-001, 4.05790020e-001,\n",
       "       5.24571808e-001, 6.29526077e-001, 7.07345303e-001, 7.41068432e-001,\n",
       "       7.40459888e-001, 7.22545945e-001, 7.15538388e-001, 7.26818607e-001,\n",
       "       7.57704176e-001, 7.94012100e-001, 7.57457210e-001, 6.33881916e-001,\n",
       "       4.46753156e-001, 2.62525845e-001, 1.24699506e-001, 4.10750575e-002,\n",
       "       8.55507516e-003, 1.71101503e-003, 1.90112781e-004, 1.90112781e-004,\n",
       "       1.90112781e-004, 3.80225563e-003, 1.63496992e-002, 4.60206290e-002,\n",
       "       9.80045945e-002, 1.69191150e-001, 2.65207923e-001, 3.71820893e-001,\n",
       "       4.76430235e-001, 5.40904446e-001, 5.79202561e-001, 5.58169998e-001,\n",
       "       5.13892157e-001, 4.66926410e-001, 4.43497060e-001, 4.69149683e-001,\n",
       "       5.71109385e-001, 6.98905001e-001, 7.37681132e-001, 6.36937826e-001,\n",
       "       4.37915328e-001, 2.45539282e-001, 1.10928816e-001, 3.29000462e-002,\n",
       "       6.08360901e-003, 1.14067669e-003, 1.90112781e-004, 0.00000000e+000,\n",
       "       3.80225563e-004, 2.09124060e-003, 1.33078947e-002, 3.51498027e-002,\n",
       "       7.47215462e-002, 1.27580499e-001, 2.04212931e-001, 2.90143633e-001,\n",
       "       3.57801438e-001, 3.98395065e-001, 3.79952256e-001, 3.19765001e-001,\n",
       "       2.48548349e-001, 2.02208357e-001, 1.93605271e-001, 2.53762606e-001,\n",
       "       4.24184233e-001, 6.30859992e-001, 7.22306834e-001, 6.00946904e-001,\n",
       "       3.96189912e-001, 1.93612764e-001, 8.02370376e-002, 1.94020334e-002,\n",
       "       2.47146616e-003, 1.90112781e-004, 0.00000000e+000, 0.00000000e+000,\n",
       "       1.90112781e-004, 1.33078947e-003, 7.22428569e-003, 1.88211824e-002,\n",
       "       4.60073177e-002, 8.64906441e-002, 1.35356957e-001, 2.11617682e-001,\n",
       "       2.63413611e-001, 2.67569946e-001, 2.21772125e-001, 1.51501329e-001,\n",
       "       9.08143615e-002, 6.72000605e-002, 8.55740152e-002, 1.90640780e-001,\n",
       "       4.32121504e-001, 6.59256751e-001, 7.03203392e-001, 5.44348079e-001,\n",
       "       3.14445485e-001, 1.34691197e-001, 4.62410190e-002, 9.88599906e-003,\n",
       "       1.14067669e-003, 1.90112781e-004, 1.90112781e-004, 0.00000000e+000,\n",
       "       0.00000000e+000, 0.00000000e+000, 3.04180450e-003, 1.00759945e-002,\n",
       "       3.13686333e-002, 5.79850279e-002, 9.73382475e-002, 1.45064730e-001,\n",
       "       1.75830682e-001, 1.68626309e-001, 1.22949424e-001, 6.59042003e-002,\n",
       "       3.65242748e-002, 3.69391402e-002, 8.27401816e-002, 2.42346798e-001,\n",
       "       5.26299088e-001, 7.16744272e-001, 6.68171957e-001, 4.61280231e-001,\n",
       "       2.26565165e-001, 8.56614673e-002, 2.66496359e-002, 8.56896222e-003,\n",
       "       2.84206155e-003, 3.80225563e-004, 0.00000000e+000, 0.00000000e+000,\n",
       "       0.00000000e+000, 0.00000000e+000, 9.50563907e-004, 4.75281934e-003,\n",
       "       1.84408462e-002, 4.16345877e-002, 7.09207439e-002, 1.03050966e-001,\n",
       "       1.16906143e-001, 1.02812159e-001, 7.15735199e-002, 4.33652777e-002,\n",
       "       3.76197346e-002, 5.42567777e-002, 1.36143885e-001, 3.79059472e-001,\n",
       "       6.58033609e-001, 7.51398328e-001, 6.14987675e-001, 3.66313384e-001,\n",
       "       1.63992013e-001, 6.16522235e-002, 2.50717337e-002, 1.14471646e-002,\n",
       "       2.66171645e-003, 7.60451126e-004, 0.00000000e+000, 0.00000000e+000,\n",
       "       0.00000000e+000, 0.00000000e+000, 5.70338344e-004, 3.80213890e-003,\n",
       "       1.15064306e-002, 2.70956762e-002, 4.94710914e-002, 7.05470881e-002,\n",
       "       7.48741393e-002, 7.12963417e-002, 6.16086770e-002, 6.13118005e-002,\n",
       "       7.32873568e-002, 1.11834281e-001, 2.59649402e-001, 5.38831703e-001,\n",
       "       7.36446449e-001, 7.26861821e-001, 5.17808069e-001, 2.78509897e-001,\n",
       "       1.26736679e-001, 5.67310260e-002, 2.46939819e-002, 1.12849571e-002,\n",
       "       4.57030394e-003, 7.60451126e-004, 0.00000000e+000, 0.00000000e+000,\n",
       "       0.00000000e+000, 0.00000000e+000, 9.34605887e-046, 2.76121919e-003,\n",
       "       7.89428862e-003, 1.57904584e-002, 3.08122192e-002, 4.34987292e-002,\n",
       "       5.12775627e-002, 6.23306269e-002, 6.91647773e-002, 8.09258906e-002,\n",
       "       1.09702062e-001, 1.87337375e-001, 4.09667357e-001, 6.68477044e-001,\n",
       "       7.60359347e-001, 6.33590720e-001, 3.98759378e-001, 2.03879822e-001,\n",
       "       8.94209702e-002, 4.43712871e-002, 2.38052196e-002, 1.08581138e-002,\n",
       "       2.84999373e-003, 3.80225563e-004, 0.00000000e+000, 0.00000000e+000,\n",
       "       0.00000000e+000, 0.00000000e+000, 4.32373848e-214, 1.05032088e-003,\n",
       "       3.90189953e-003, 9.14636506e-003, 1.63532112e-002, 2.67969430e-002,\n",
       "       3.56867964e-002, 4.82012716e-002, 5.86627668e-002, 8.03639494e-002,\n",
       "       1.37609463e-001, 2.90233811e-001, 5.40434225e-001, 7.17071642e-001,\n",
       "       7.00199302e-001, 5.05868875e-001, 2.87307122e-001, 1.35604970e-001,\n",
       "       6.10662587e-002, 3.00765606e-002, 1.32470239e-002, 6.48671706e-003,\n",
       "       2.09124034e-003, 1.90112781e-004, 0.00000000e+000, 0.00000000e+000,\n",
       "       0.00000000e+000, 0.00000000e+000, 0.00000000e+000, 8.44050330e-004,\n",
       "       3.04581811e-003, 4.57752529e-003, 8.09594426e-003, 1.35913123e-002,\n",
       "       2.06457733e-002, 2.91778233e-002, 4.41573957e-002, 8.58625556e-002,\n",
       "       1.90358995e-001, 4.01695104e-001, 6.11013048e-001, 7.01280121e-001,\n",
       "       5.86735768e-001, 3.81100118e-001, 2.01654772e-001, 8.46975791e-002,\n",
       "       3.66508154e-002, 1.76368308e-002, 7.30400142e-003, 2.27325948e-003,\n",
       "       7.60451126e-004, 0.00000000e+000, 0.00000000e+000, 0.00000000e+000,\n",
       "       0.00000000e+000, 0.00000000e+000, 5.06434513e-229, 4.68084186e-004,\n",
       "       2.28004410e-003, 3.24032777e-003, 4.02563315e-003, 6.30083020e-003,\n",
       "       1.18235636e-002, 2.01654444e-002, 4.96282839e-002, 1.20828142e-001,\n",
       "       2.85666030e-001, 4.82400239e-001, 6.32625037e-001, 6.11151815e-001,\n",
       "       4.59551689e-001, 2.83534680e-001, 1.38714882e-001, 6.15750103e-002,\n",
       "       2.45666228e-002, 9.43332675e-003, 3.63909483e-003, 7.60452564e-004,\n",
       "       5.70339783e-004, 1.90112781e-004, 0.00000000e+000, 0.00000000e+000,\n",
       "       0.00000000e+000, 0.00000000e+000, 0.00000000e+000, 3.52237136e-012,\n",
       "       8.80791868e-004, 1.82691478e-003, 1.64137769e-003, 4.52395253e-003,\n",
       "       1.05099315e-002, 3.22766195e-002, 8.87124536e-002, 2.05178233e-001,\n",
       "       3.73366770e-001, 5.35442449e-001, 5.93519185e-001, 5.12113960e-001,\n",
       "       3.59256743e-001, 2.17013729e-001, 1.02789317e-001, 4.43866377e-002,\n",
       "       1.82342491e-002, 5.55053827e-003, 2.09256249e-003, 1.90737182e-004,\n",
       "       1.90737182e-004, 1.90112781e-004, 0.00000000e+000, 0.00000000e+000,\n",
       "       0.00000000e+000, 0.00000000e+000, 2.61557475e-217, 3.76882817e-004,\n",
       "       7.78622204e-004, 1.91941544e-003, 3.44611358e-003, 8.53870524e-003,\n",
       "       2.48728798e-002, 6.92297030e-002, 1.57764002e-001, 2.95133803e-001,\n",
       "       4.39220083e-001, 5.27657039e-001, 5.19620932e-001, 4.23403979e-001,\n",
       "       2.92468234e-001, 1.73345873e-001, 8.47268315e-002, 3.60992328e-002,\n",
       "       1.49752386e-002, 4.75459222e-003, 2.09253113e-003, 4.06900434e-075,\n",
       "       1.90112781e-004, 1.90112781e-004, 0.00000000e+000, 0.00000000e+000,\n",
       "       0.00000000e+000, 0.00000000e+000, 0.00000000e+000, 1.86770036e-004,\n",
       "       1.32089285e-003, 3.99291645e-003, 8.92141647e-003, 2.04498378e-002,\n",
       "       6.07876642e-002, 1.27650254e-001, 2.35095447e-001, 3.61474697e-001,\n",
       "       4.57190780e-001, 4.92101962e-001, 4.53658177e-001, 3.60554699e-001,\n",
       "       2.47404153e-001, 1.44997698e-001, 7.14509220e-002, 3.20117805e-002,\n",
       "       1.15736361e-002, 5.13418020e-003, 1.33078836e-003, 0.00000000e+000,\n",
       "       0.00000000e+000, 0.00000000e+000, 0.00000000e+000, 0.00000000e+000,\n",
       "       0.00000000e+000, 0.00000000e+000, 0.00000000e+000, 8.11121553e-083,\n",
       "       2.46491895e-003, 7.40811125e-003, 1.77354534e-002, 4.80162931e-002,\n",
       "       1.00523091e-001, 1.86945905e-001, 2.95063269e-001, 3.95367957e-001,\n",
       "       4.47458307e-001, 4.43958544e-001, 3.92125539e-001, 3.12518663e-001,\n",
       "       2.11537355e-001, 1.28516638e-001, 6.37887058e-002, 2.75562807e-002,\n",
       "       1.11922868e-002, 4.37305834e-003, 1.90112670e-003, 3.80225563e-004,\n",
       "       1.90112781e-004, 0.00000000e+000, 0.00000000e+000, 0.00000000e+000,\n",
       "       0.00000000e+000, 0.00000000e+000, 0.00000000e+000, 3.78245414e-004,\n",
       "       4.13593454e-003, 1.05287366e-002, 3.01419924e-002, 7.23241076e-002,\n",
       "       1.35604166e-001, 2.23356544e-001, 3.15711104e-001, 3.81888040e-001,\n",
       "       4.05707400e-001, 3.90650532e-001, 3.40941588e-001, 2.60090973e-001,\n",
       "       1.81620474e-001, 1.12089112e-001, 5.30886398e-002, 2.75527628e-002,\n",
       "       1.06467800e-002, 4.75328390e-003, 1.52090225e-003, 0.00000000e+000,\n",
       "       0.00000000e+000, 0.00000000e+000, 0.00000000e+000, 0.00000000e+000,\n",
       "       0.00000000e+000, 0.00000000e+000, 0.00000000e+000, 1.90112781e-004,\n",
       "       2.67843408e-003, 1.11798824e-002, 3.34294417e-002, 7.46680377e-002,\n",
       "       1.38951056e-001, 2.11000445e-001, 2.75598904e-001, 3.14249253e-001,\n",
       "       3.24586012e-001, 3.09112830e-001, 2.68907028e-001, 2.09881056e-001,\n",
       "       1.45392415e-001, 8.85989400e-002, 4.84631427e-002, 2.48802014e-002,\n",
       "       9.69621733e-003, 5.51327066e-003, 2.09124060e-003, 0.00000000e+000,\n",
       "       0.00000000e+000, 0.00000000e+000, 0.00000000e+000, 0.00000000e+000,\n",
       "       0.00000000e+000, 0.00000000e+000, 0.00000000e+000, 0.00000000e+000,\n",
       "       3.80225563e-004, 3.80225563e-003, 1.71101503e-002, 3.72621052e-002,\n",
       "       7.50945487e-002, 1.05512594e-001, 1.40873571e-001, 1.62926654e-001,\n",
       "       1.65208007e-001, 1.63496992e-001, 1.43725263e-001, 1.13117105e-001,\n",
       "       8.28891727e-002, 5.36118044e-002, 2.96575939e-002, 1.55892481e-002,\n",
       "       4.94293232e-003, 2.66157894e-003, 9.50563907e-004, 1.90112781e-004,\n",
       "       0.00000000e+000, 0.00000000e+000, 0.00000000e+000, 0.00000000e+000,\n",
       "       0.00000000e+000, 0.00000000e+000, 0.00000000e+000, 0.00000000e+000,\n",
       "       0.00000000e+000, 7.60451126e-004, 1.71101503e-003, 3.61214285e-003,\n",
       "       3.80225563e-003, 6.27372179e-003, 9.88586463e-003, 1.27375564e-002,\n",
       "       1.76804887e-002, 1.82508270e-002, 2.28135338e-002, 2.01519548e-002,\n",
       "       1.61595864e-002, 1.04562030e-002, 5.70338344e-003, 2.09124060e-003,\n",
       "       1.33078947e-003, 3.80225563e-004, 3.80225563e-004, 0.00000000e+000,\n",
       "       0.00000000e+000, 0.00000000e+000, 0.00000000e+000, 0.00000000e+000])"
      ]
     },
     "execution_count": 21,
     "metadata": {},
     "output_type": "execute_result"
    }
   ],
   "source": [
    "res_p_i_j[0]"
   ]
  }
 ],
 "metadata": {
  "kernelspec": {
   "display_name": "Python 3",
   "language": "python",
   "name": "python3"
  },
  "language_info": {
   "codemirror_mode": {
    "name": "ipython",
    "version": 3
   },
   "file_extension": ".py",
   "mimetype": "text/x-python",
   "name": "python",
   "nbconvert_exporter": "python",
   "pygments_lexer": "ipython3",
   "version": "3.7.8"
  }
 },
 "nbformat": 4,
 "nbformat_minor": 4
}
